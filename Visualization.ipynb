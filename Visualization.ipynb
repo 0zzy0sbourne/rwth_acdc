{
 "cells": [
  {
   "cell_type": "code",
   "execution_count": 8,
   "id": "29f78df2-e000-4a18-a627-120718884179",
   "metadata": {},
   "outputs": [],
   "source": [
    "import tensorflow as tf\n",
    "import matplotlib.pyplot as plt"
   ]
  },
  {
   "cell_type": "code",
   "execution_count": 9,
   "id": "ba204ad4-44e9-4ffe-bb5e-e1f0f7833030",
   "metadata": {},
   "outputs": [],
   "source": [
    "def createRandom3DTensor(batch_size, width, height, channels): \n",
    "    # Create a random 3D tensor with dimensions [batch_size, width, height, channels]\n",
    "    batch_size = 2\n",
    "    width = 4\n",
    "    height = 4\n",
    "    channels = 3\n",
    "    input_feature_map = tf.random.normal((batch_size, width, height, channels))\n",
    "    return input_feature_map"
   ]
  },
  {
   "cell_type": "code",
   "execution_count": 10,
   "id": "c3a52f05-1968-4640-959d-e21a6aa6ded9",
   "metadata": {},
   "outputs": [],
   "source": [
    "def plotSampleFeatureMap(sample_feature_map, sample_idx, channel_idx): \n",
    "    # Select a specific sample and channel from the input feature map\n",
    "    selected_map = sample_feature_map[sample_idx, :, :, channel_idx]\n",
    "    # Visualize the selected feature map\n",
    "    plt.imshow(selected_map.numpy(), cmap='viridis')\n",
    "    plt.title(f'Feature Map (Sample {sample_idx}, Channel {channel_idx})')\n",
    "    plt.colorbar()\n",
    "    plt.show()"
   ]
  },
  {
   "cell_type": "code",
   "execution_count": 11,
   "id": "da0affb1-e5ee-42c0-a554-f441d940d091",
   "metadata": {},
   "outputs": [],
   "source": [
    "tensor = createRandom3DTensor(10, 10, 10, 3)\n",
    "plotSampleFeatureMap("
   ]
  }
 ],
 "metadata": {
  "kernelspec": {
   "display_name": "Python 3 (ipykernel)",
   "language": "python",
   "name": "python3"
  },
  "language_info": {
   "codemirror_mode": {
    "name": "ipython",
    "version": 3
   },
   "file_extension": ".py",
   "mimetype": "text/x-python",
   "name": "python",
   "nbconvert_exporter": "python",
   "pygments_lexer": "ipython3",
   "version": "3.10.12"
  }
 },
 "nbformat": 4,
 "nbformat_minor": 5
}

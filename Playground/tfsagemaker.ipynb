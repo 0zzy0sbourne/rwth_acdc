{
 "cells": [
  {
   "cell_type": "code",
   "execution_count": 10,
   "id": "7000b65b",
   "metadata": {
    "tags": []
   },
   "outputs": [],
   "source": [
    "import os \n",
    "import sagemaker\n",
    "from sagemaker import Session, get_execution_role\n",
    "from sagemaker.tensorflow import TensorFlow \n",
    "sagemaker_session = Session()\n",
    "\n",
    "# role = get_execution_role()\n",
    "role = \"arn:aws:iam::857872452397:role/sagemaker_executor\"\n",
    "region = sagemaker_session.boto_session.region_name"
   ]
  },
  {
   "cell_type": "code",
   "execution_count": 11,
   "id": "6811b1a9",
   "metadata": {
    "tags": []
   },
   "outputs": [],
   "source": [
    "training_data_uri = \"s3://sagemaker-sample-data-{}/tensorflow/mnist\".format(region)"
   ]
  },
  {
   "cell_type": "code",
   "execution_count": 12,
   "id": "bdc776a1-3137-4b4f-9fcb-2ee277483536",
   "metadata": {
    "tags": []
   },
   "outputs": [
    {
     "ename": "ValueError",
     "evalue": "framework_version or py_version was None, yet image_uri was also None. Either specify both framework_version and py_version, or specify image_uri.",
     "output_type": "error",
     "traceback": [
      "\u001b[0;31m---------------------------------------------------------------------------\u001b[0m",
      "\u001b[0;31mValueError\u001b[0m                                Traceback (most recent call last)",
      "Cell \u001b[0;32mIn[12], line 1\u001b[0m\n\u001b[0;32m----> 1\u001b[0m mnist_estimator \u001b[38;5;241m=\u001b[39m TensorFlow(\n\u001b[1;32m      2\u001b[0m     \n\u001b[1;32m      3\u001b[0m )\n",
      "File \u001b[0;32m~/anaconda3/lib/python3.11/site-packages/sagemaker/tensorflow/estimator.py:197\u001b[0m, in \u001b[0;36mTensorFlow.__init__\u001b[0;34m(self, py_version, framework_version, model_dir, image_uri, distribution, compiler_config, **kwargs)\u001b[0m\n\u001b[1;32m    193\u001b[0m distribution \u001b[38;5;241m=\u001b[39m renamed_kwargs(\u001b[38;5;124m\"\u001b[39m\u001b[38;5;124mdistributions\u001b[39m\u001b[38;5;124m\"\u001b[39m, \u001b[38;5;124m\"\u001b[39m\u001b[38;5;124mdistribution\u001b[39m\u001b[38;5;124m\"\u001b[39m, distribution, kwargs)\n\u001b[1;32m    194\u001b[0m instance_type \u001b[38;5;241m=\u001b[39m renamed_kwargs(\n\u001b[1;32m    195\u001b[0m     \u001b[38;5;124m\"\u001b[39m\u001b[38;5;124mtrain_instance_type\u001b[39m\u001b[38;5;124m\"\u001b[39m, \u001b[38;5;124m\"\u001b[39m\u001b[38;5;124minstance_type\u001b[39m\u001b[38;5;124m\"\u001b[39m, kwargs\u001b[38;5;241m.\u001b[39mget(\u001b[38;5;124m\"\u001b[39m\u001b[38;5;124minstance_type\u001b[39m\u001b[38;5;124m\"\u001b[39m), kwargs\n\u001b[1;32m    196\u001b[0m )\n\u001b[0;32m--> 197\u001b[0m fw\u001b[38;5;241m.\u001b[39mvalidate_version_or_image_args(framework_version, py_version, image_uri)\n\u001b[1;32m    198\u001b[0m \u001b[38;5;28;01mif\u001b[39;00m py_version \u001b[38;5;241m==\u001b[39m \u001b[38;5;124m\"\u001b[39m\u001b[38;5;124mpy2\u001b[39m\u001b[38;5;124m\"\u001b[39m:\n\u001b[1;32m    199\u001b[0m     logger\u001b[38;5;241m.\u001b[39mwarning(\n\u001b[1;32m    200\u001b[0m         fw\u001b[38;5;241m.\u001b[39mpython_deprecation_warning(\u001b[38;5;28mself\u001b[39m\u001b[38;5;241m.\u001b[39m_framework_name, defaults\u001b[38;5;241m.\u001b[39mLATEST_PY2_VERSION)\n\u001b[1;32m    201\u001b[0m     )\n",
      "File \u001b[0;32m~/anaconda3/lib/python3.11/site-packages/sagemaker/fw_utils.py:1252\u001b[0m, in \u001b[0;36mvalidate_version_or_image_args\u001b[0;34m(framework_version, py_version, image_uri)\u001b[0m\n\u001b[1;32m   1238\u001b[0m \u001b[38;5;250m\u001b[39m\u001b[38;5;124;03m\"\"\"Checks if version or image arguments are specified.\u001b[39;00m\n\u001b[1;32m   1239\u001b[0m \n\u001b[1;32m   1240\u001b[0m \u001b[38;5;124;03mValidates framework and model arguments to enforce version or image specification.\u001b[39;00m\n\u001b[0;32m   (...)\u001b[0m\n\u001b[1;32m   1249\u001b[0m \u001b[38;5;124;03m        None.\u001b[39;00m\n\u001b[1;32m   1250\u001b[0m \u001b[38;5;124;03m\"\"\"\u001b[39;00m\n\u001b[1;32m   1251\u001b[0m \u001b[38;5;28;01mif\u001b[39;00m (framework_version \u001b[38;5;129;01mis\u001b[39;00m \u001b[38;5;28;01mNone\u001b[39;00m \u001b[38;5;129;01mor\u001b[39;00m py_version \u001b[38;5;129;01mis\u001b[39;00m \u001b[38;5;28;01mNone\u001b[39;00m) \u001b[38;5;129;01mand\u001b[39;00m image_uri \u001b[38;5;129;01mis\u001b[39;00m \u001b[38;5;28;01mNone\u001b[39;00m:\n\u001b[0;32m-> 1252\u001b[0m     \u001b[38;5;28;01mraise\u001b[39;00m \u001b[38;5;167;01mValueError\u001b[39;00m(\n\u001b[1;32m   1253\u001b[0m         \u001b[38;5;124m\"\u001b[39m\u001b[38;5;124mframework_version or py_version was None, yet image_uri was also None. \u001b[39m\u001b[38;5;124m\"\u001b[39m\n\u001b[1;32m   1254\u001b[0m         \u001b[38;5;124m\"\u001b[39m\u001b[38;5;124mEither specify both framework_version and py_version, or specify image_uri.\u001b[39m\u001b[38;5;124m\"\u001b[39m\n\u001b[1;32m   1255\u001b[0m     )\n",
      "\u001b[0;31mValueError\u001b[0m: framework_version or py_version was None, yet image_uri was also None. Either specify both framework_version and py_version, or specify image_uri."
     ]
    }
   ],
   "source": [
    "mnist_estimator = TensorFlow(\n",
    "    entry_point=\"mnist.py\", \n",
    "    role=role, \n",
    "    instance_count=2, \n",
    "    instance_type=\"ml.p3.2xlarge\",\n",
    "    framework_version=\"1.15.2\",\n",
    "    py_version=\"py3\",\n",
    "    distribution={\"parameter_server\": {\"enabled\": True}},\n",
    ")"
   ]
  },
  {
   "cell_type": "code",
   "execution_count": null,
   "id": "3fcb82b8-11b2-4b32-b3fa-20d0c3e8170a",
   "metadata": {},
   "outputs": [],
   "source": []
  }
 ],
 "metadata": {
  "kernelspec": {
   "display_name": "Python 3 (ipykernel)",
   "language": "python",
   "name": "python3"
  },
  "language_info": {
   "codemirror_mode": {
    "name": "ipython",
    "version": 3
   },
   "file_extension": ".py",
   "mimetype": "text/x-python",
   "name": "python",
   "nbconvert_exporter": "python",
   "pygments_lexer": "ipython3",
   "version": "3.11.3"
  }
 },
 "nbformat": 4,
 "nbformat_minor": 5
}

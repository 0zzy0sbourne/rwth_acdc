{
 "cells": [
  {
   "cell_type": "code",
   "execution_count": 3,
   "id": "7000b65b",
   "metadata": {
    "tags": []
   },
   "outputs": [],
   "source": [
    "import os \n",
    "import sagemaker\n",
    "from sagemaker import Session, get_execution_role\n",
    "\n",
    "sagemaker_session = Session()\n",
    "\n",
    "# role = get_execution_role()\n",
    "role = \"arn:aws:iam::857872452397:role/sagemaker_executor\"\n",
    "region = sagemaker_session.boto_session.region_name"
   ]
  },
  {
   "cell_type": "code",
   "execution_count": 4,
   "id": "6811b1a9",
   "metadata": {
    "tags": []
   },
   "outputs": [],
   "source": [
    "training_data_uri = \"s3://sagemaker-sample-data-{}/tensorflow/mnist\".format(region)"
   ]
  },
  {
   "cell_type": "code",
   "execution_count": null,
   "id": "dacbd020",
   "metadata": {},
   "outputs": [],
   "source": []
  }
 ],
 "metadata": {
  "kernelspec": {
   "display_name": "Python 3 (ipykernel)",
   "language": "python",
   "name": "python3"
  },
  "language_info": {
   "codemirror_mode": {
    "name": "ipython",
    "version": 3
   },
   "file_extension": ".py",
   "mimetype": "text/x-python",
   "name": "python",
   "nbconvert_exporter": "python",
   "pygments_lexer": "ipython3",
   "version": "3.11.3"
  }
 },
 "nbformat": 4,
 "nbformat_minor": 5
}

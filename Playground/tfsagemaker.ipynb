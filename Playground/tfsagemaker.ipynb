{
 "cells": [
  {
   "cell_type": "code",
   "execution_count": 5,
   "id": "a2ffae3c",
   "metadata": {},
   "outputs": [
    {
     "ename": "ClientError",
     "evalue": "An error occurred (InvalidClientTokenId) when calling the GetCallerIdentity operation: The security token included in the request is invalid.",
     "output_type": "error",
     "traceback": [
      "\u001b[0;31m---------------------------------------------------------------------------\u001b[0m",
      "\u001b[0;31mClientError\u001b[0m                               Traceback (most recent call last)",
      "Cell \u001b[0;32mIn[5], line 7\u001b[0m\n\u001b[1;32m      3\u001b[0m \u001b[38;5;28;01mfrom\u001b[39;00m \u001b[38;5;21;01msagemaker\u001b[39;00m \u001b[38;5;28;01mimport\u001b[39;00m Session, get_execution_role\n\u001b[1;32m      5\u001b[0m sagemaker_session \u001b[38;5;241m=\u001b[39m Session()\n\u001b[0;32m----> 7\u001b[0m role \u001b[38;5;241m=\u001b[39m get_execution_role()\n\u001b[1;32m      8\u001b[0m region \u001b[38;5;241m=\u001b[39m sagemaker_session\u001b[38;5;241m.\u001b[39mboto_session\u001b[38;5;241m.\u001b[39mregion_name\n",
      "File \u001b[0;32m~/anaconda3/lib/python3.11/site-packages/sagemaker/session.py:6134\u001b[0m, in \u001b[0;36mget_execution_role\u001b[0;34m(sagemaker_session)\u001b[0m\n\u001b[1;32m   6132\u001b[0m \u001b[38;5;28;01mif\u001b[39;00m \u001b[38;5;129;01mnot\u001b[39;00m sagemaker_session:\n\u001b[1;32m   6133\u001b[0m     sagemaker_session \u001b[38;5;241m=\u001b[39m Session()\n\u001b[0;32m-> 6134\u001b[0m arn \u001b[38;5;241m=\u001b[39m sagemaker_session\u001b[38;5;241m.\u001b[39mget_caller_identity_arn()\n\u001b[1;32m   6136\u001b[0m \u001b[38;5;28;01mif\u001b[39;00m \u001b[38;5;124m\"\u001b[39m\u001b[38;5;124m:role/\u001b[39m\u001b[38;5;124m\"\u001b[39m \u001b[38;5;129;01min\u001b[39;00m arn:\n\u001b[1;32m   6137\u001b[0m     \u001b[38;5;28;01mreturn\u001b[39;00m arn\n",
      "File \u001b[0;32m~/anaconda3/lib/python3.11/site-packages/sagemaker/session.py:4794\u001b[0m, in \u001b[0;36mSession.get_caller_identity_arn\u001b[0;34m(self)\u001b[0m\n\u001b[1;32m   4783\u001b[0m     \u001b[38;5;28;01mexcept\u001b[39;00m ClientError:\n\u001b[1;32m   4784\u001b[0m         LOGGER\u001b[38;5;241m.\u001b[39mdebug(\n\u001b[1;32m   4785\u001b[0m             \u001b[38;5;124m\"\u001b[39m\u001b[38;5;124mCouldn\u001b[39m\u001b[38;5;124m'\u001b[39m\u001b[38;5;124mt call \u001b[39m\u001b[38;5;124m'\u001b[39m\u001b[38;5;124mdescribe_notebook_instance\u001b[39m\u001b[38;5;124m'\u001b[39m\u001b[38;5;124m to get the Role \u001b[39m\u001b[38;5;124m\"\u001b[39m\n\u001b[1;32m   4786\u001b[0m             \u001b[38;5;124m\"\u001b[39m\u001b[38;5;124mARN of the instance \u001b[39m\u001b[38;5;132;01m%s\u001b[39;00m\u001b[38;5;124m.\u001b[39m\u001b[38;5;124m\"\u001b[39m,\n\u001b[1;32m   4787\u001b[0m             instance_name,\n\u001b[1;32m   4788\u001b[0m         )\n\u001b[1;32m   4790\u001b[0m assumed_role \u001b[38;5;241m=\u001b[39m \u001b[38;5;28mself\u001b[39m\u001b[38;5;241m.\u001b[39mboto_session\u001b[38;5;241m.\u001b[39mclient(\n\u001b[1;32m   4791\u001b[0m     \u001b[38;5;124m\"\u001b[39m\u001b[38;5;124msts\u001b[39m\u001b[38;5;124m\"\u001b[39m,\n\u001b[1;32m   4792\u001b[0m     region_name\u001b[38;5;241m=\u001b[39m\u001b[38;5;28mself\u001b[39m\u001b[38;5;241m.\u001b[39mboto_region_name,\n\u001b[1;32m   4793\u001b[0m     endpoint_url\u001b[38;5;241m=\u001b[39msts_regional_endpoint(\u001b[38;5;28mself\u001b[39m\u001b[38;5;241m.\u001b[39mboto_region_name),\n\u001b[0;32m-> 4794\u001b[0m )\u001b[38;5;241m.\u001b[39mget_caller_identity()[\u001b[38;5;124m\"\u001b[39m\u001b[38;5;124mArn\u001b[39m\u001b[38;5;124m\"\u001b[39m]\n\u001b[1;32m   4796\u001b[0m role \u001b[38;5;241m=\u001b[39m re\u001b[38;5;241m.\u001b[39msub(\u001b[38;5;124mr\u001b[39m\u001b[38;5;124m\"\u001b[39m\u001b[38;5;124m^(.+)sts::(\u001b[39m\u001b[38;5;124m\\\u001b[39m\u001b[38;5;124md+):assumed-role/(.+?)/.*$\u001b[39m\u001b[38;5;124m\"\u001b[39m, \u001b[38;5;124mr\u001b[39m\u001b[38;5;124m\"\u001b[39m\u001b[38;5;124m\\\u001b[39m\u001b[38;5;124m1iam::\u001b[39m\u001b[38;5;124m\\\u001b[39m\u001b[38;5;124m2:role/\u001b[39m\u001b[38;5;124m\\\u001b[39m\u001b[38;5;124m3\u001b[39m\u001b[38;5;124m\"\u001b[39m, assumed_role)\n\u001b[1;32m   4798\u001b[0m \u001b[38;5;66;03m# Call IAM to get the role's path\u001b[39;00m\n",
      "File \u001b[0;32m~/anaconda3/lib/python3.11/site-packages/botocore/client.py:535\u001b[0m, in \u001b[0;36mClientCreator._create_api_method.<locals>._api_call\u001b[0;34m(self, *args, **kwargs)\u001b[0m\n\u001b[1;32m    531\u001b[0m     \u001b[38;5;28;01mraise\u001b[39;00m \u001b[38;5;167;01mTypeError\u001b[39;00m(\n\u001b[1;32m    532\u001b[0m         \u001b[38;5;124mf\u001b[39m\u001b[38;5;124m\"\u001b[39m\u001b[38;5;132;01m{\u001b[39;00mpy_operation_name\u001b[38;5;132;01m}\u001b[39;00m\u001b[38;5;124m() only accepts keyword arguments.\u001b[39m\u001b[38;5;124m\"\u001b[39m\n\u001b[1;32m    533\u001b[0m     )\n\u001b[1;32m    534\u001b[0m \u001b[38;5;66;03m# The \"self\" in this scope is referring to the BaseClient.\u001b[39;00m\n\u001b[0;32m--> 535\u001b[0m \u001b[38;5;28;01mreturn\u001b[39;00m \u001b[38;5;28mself\u001b[39m\u001b[38;5;241m.\u001b[39m_make_api_call(operation_name, kwargs)\n",
      "File \u001b[0;32m~/anaconda3/lib/python3.11/site-packages/botocore/client.py:980\u001b[0m, in \u001b[0;36mBaseClient._make_api_call\u001b[0;34m(self, operation_name, api_params)\u001b[0m\n\u001b[1;32m    978\u001b[0m     error_code \u001b[38;5;241m=\u001b[39m parsed_response\u001b[38;5;241m.\u001b[39mget(\u001b[38;5;124m\"\u001b[39m\u001b[38;5;124mError\u001b[39m\u001b[38;5;124m\"\u001b[39m, {})\u001b[38;5;241m.\u001b[39mget(\u001b[38;5;124m\"\u001b[39m\u001b[38;5;124mCode\u001b[39m\u001b[38;5;124m\"\u001b[39m)\n\u001b[1;32m    979\u001b[0m     error_class \u001b[38;5;241m=\u001b[39m \u001b[38;5;28mself\u001b[39m\u001b[38;5;241m.\u001b[39mexceptions\u001b[38;5;241m.\u001b[39mfrom_code(error_code)\n\u001b[0;32m--> 980\u001b[0m     \u001b[38;5;28;01mraise\u001b[39;00m error_class(parsed_response, operation_name)\n\u001b[1;32m    981\u001b[0m \u001b[38;5;28;01melse\u001b[39;00m:\n\u001b[1;32m    982\u001b[0m     \u001b[38;5;28;01mreturn\u001b[39;00m parsed_response\n",
      "\u001b[0;31mClientError\u001b[0m: An error occurred (InvalidClientTokenId) when calling the GetCallerIdentity operation: The security token included in the request is invalid."
     ]
    }
   ],
   "source": [
    "import os \n",
    "import sagemaker\n",
    "from sagemaker import Session, get_execution_role\n",
    "\n",
    "sagemaker_session = Session()\n",
    "\n",
    "role = get_execution_role()\n",
    "region = sagemaker_session.boto_session.region_name"
   ]
  }
 ],
 "metadata": {
  "kernelspec": {
   "display_name": "Python 3 (ipykernel)",
   "language": "python",
   "name": "python3"
  },
  "language_info": {
   "codemirror_mode": {
    "name": "ipython",
    "version": 3
   },
   "file_extension": ".py",
   "mimetype": "text/x-python",
   "name": "python",
   "nbconvert_exporter": "python",
   "pygments_lexer": "ipython3",
   "version": "3.11.3"
  }
 },
 "nbformat": 4,
 "nbformat_minor": 5
}
